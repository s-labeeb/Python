{
 "cells": [
  {
   "cell_type": "code",
   "execution_count": 62,
   "id": "ca4c4936",
   "metadata": {},
   "outputs": [],
   "source": [
    "import pandas as pd\n",
    "import dask.dataframe as dd\n",
    "import numpy as np\n",
    "from matplotlib import pyplot as plt\n"
   ]
  },
  {
   "cell_type": "markdown",
   "id": "0e0f8386",
   "metadata": {},
   "source": [
    "# Q1"
   ]
  },
  {
   "cell_type": "code",
   "execution_count": null,
   "id": "432b593e",
   "metadata": {},
   "outputs": [],
   "source": [
    "df= pd.read_csv('Downloads/Ms Excel/complaints.csv', \n",
    "                nrows=2000000,low_memory=False) #used nrows to import 20L rows . Because of memory errors."
   ]
  },
  {
   "cell_type": "code",
   "execution_count": 26,
   "id": "e187638d",
   "metadata": {},
   "outputs": [
    {
     "data": {
      "text/html": [
       "<div>\n",
       "<style scoped>\n",
       "    .dataframe tbody tr th:only-of-type {\n",
       "        vertical-align: middle;\n",
       "    }\n",
       "\n",
       "    .dataframe tbody tr th {\n",
       "        vertical-align: top;\n",
       "    }\n",
       "\n",
       "    .dataframe thead th {\n",
       "        text-align: right;\n",
       "    }\n",
       "</style>\n",
       "<table border=\"1\" class=\"dataframe\">\n",
       "  <thead>\n",
       "    <tr style=\"text-align: right;\">\n",
       "      <th></th>\n",
       "      <th>Complaint ID</th>\n",
       "    </tr>\n",
       "  </thead>\n",
       "  <tbody>\n",
       "    <tr>\n",
       "      <th>count</th>\n",
       "      <td>2.000000e+06</td>\n",
       "    </tr>\n",
       "    <tr>\n",
       "      <th>mean</th>\n",
       "      <td>6.803500e+06</td>\n",
       "    </tr>\n",
       "    <tr>\n",
       "      <th>std</th>\n",
       "      <td>1.963783e+06</td>\n",
       "    </tr>\n",
       "    <tr>\n",
       "      <th>min</th>\n",
       "      <td>5.000000e+00</td>\n",
       "    </tr>\n",
       "    <tr>\n",
       "      <th>25%</th>\n",
       "      <td>6.222981e+06</td>\n",
       "    </tr>\n",
       "    <tr>\n",
       "      <th>50%</th>\n",
       "      <td>7.466023e+06</td>\n",
       "    </tr>\n",
       "    <tr>\n",
       "      <th>75%</th>\n",
       "      <td>8.281885e+06</td>\n",
       "    </tr>\n",
       "    <tr>\n",
       "      <th>max</th>\n",
       "      <td>8.944512e+06</td>\n",
       "    </tr>\n",
       "  </tbody>\n",
       "</table>\n",
       "</div>"
      ],
      "text/plain": [
       "       Complaint ID\n",
       "count  2.000000e+06\n",
       "mean   6.803500e+06\n",
       "std    1.963783e+06\n",
       "min    5.000000e+00\n",
       "25%    6.222981e+06\n",
       "50%    7.466023e+06\n",
       "75%    8.281885e+06\n",
       "max    8.944512e+06"
      ]
     },
     "execution_count": 26,
     "metadata": {},
     "output_type": "execute_result"
    }
   ],
   "source": [
    "df.describe()"
   ]
  },
  {
   "cell_type": "code",
   "execution_count": 28,
   "id": "662c3b2a",
   "metadata": {},
   "outputs": [
    {
     "data": {
      "text/html": [
       "<div>\n",
       "<style scoped>\n",
       "    .dataframe tbody tr th:only-of-type {\n",
       "        vertical-align: middle;\n",
       "    }\n",
       "\n",
       "    .dataframe tbody tr th {\n",
       "        vertical-align: top;\n",
       "    }\n",
       "\n",
       "    .dataframe thead th {\n",
       "        text-align: right;\n",
       "    }\n",
       "</style>\n",
       "<table border=\"1\" class=\"dataframe\">\n",
       "  <thead>\n",
       "    <tr style=\"text-align: right;\">\n",
       "      <th></th>\n",
       "      <th>Date received</th>\n",
       "      <th>Product</th>\n",
       "      <th>Sub-product</th>\n",
       "      <th>Issue</th>\n",
       "      <th>Sub-issue</th>\n",
       "      <th>Consumer complaint narrative</th>\n",
       "      <th>Company public response</th>\n",
       "      <th>Company</th>\n",
       "      <th>State</th>\n",
       "      <th>ZIP code</th>\n",
       "      <th>Tags</th>\n",
       "      <th>Consumer consent provided?</th>\n",
       "      <th>Submitted via</th>\n",
       "      <th>Date sent to company</th>\n",
       "      <th>Company response to consumer</th>\n",
       "      <th>Timely response?</th>\n",
       "      <th>Consumer disputed?</th>\n",
       "      <th>Complaint ID</th>\n",
       "    </tr>\n",
       "  </thead>\n",
       "  <tbody>\n",
       "    <tr>\n",
       "      <th>0</th>\n",
       "      <td>2024-01-24</td>\n",
       "      <td>Credit reporting or other personal consumer re...</td>\n",
       "      <td>Credit reporting</td>\n",
       "      <td>Incorrect information on your report</td>\n",
       "      <td>Account information incorrect</td>\n",
       "      <td>NaN</td>\n",
       "      <td>Company has responded to the consumer and the ...</td>\n",
       "      <td>TRANSUNION INTERMEDIATE HOLDINGS, INC.</td>\n",
       "      <td>FL</td>\n",
       "      <td>33578</td>\n",
       "      <td>NaN</td>\n",
       "      <td>Consent not provided</td>\n",
       "      <td>Web</td>\n",
       "      <td>2024-01-24</td>\n",
       "      <td>Closed with explanation</td>\n",
       "      <td>Yes</td>\n",
       "      <td>NaN</td>\n",
       "      <td>8205544</td>\n",
       "    </tr>\n",
       "    <tr>\n",
       "      <th>1</th>\n",
       "      <td>2024-02-26</td>\n",
       "      <td>Debt collection</td>\n",
       "      <td>Other debt</td>\n",
       "      <td>Threatened to contact someone or share informa...</td>\n",
       "      <td>Talked to a third-party about your debt</td>\n",
       "      <td>NaN</td>\n",
       "      <td>NaN</td>\n",
       "      <td>Marlette Funding, LLC</td>\n",
       "      <td>IL</td>\n",
       "      <td>60060</td>\n",
       "      <td>NaN</td>\n",
       "      <td>Consent not provided</td>\n",
       "      <td>Web</td>\n",
       "      <td>2024-02-26</td>\n",
       "      <td>Closed with explanation</td>\n",
       "      <td>Yes</td>\n",
       "      <td>NaN</td>\n",
       "      <td>8424268</td>\n",
       "    </tr>\n",
       "    <tr>\n",
       "      <th>2</th>\n",
       "      <td>2024-02-26</td>\n",
       "      <td>Credit reporting or other personal consumer re...</td>\n",
       "      <td>Credit reporting</td>\n",
       "      <td>Incorrect information on your report</td>\n",
       "      <td>Information belongs to someone else</td>\n",
       "      <td>NaN</td>\n",
       "      <td>Company believes it acted appropriately as aut...</td>\n",
       "      <td>CCS Financial Services, Inc.</td>\n",
       "      <td>NC</td>\n",
       "      <td>27536</td>\n",
       "      <td>NaN</td>\n",
       "      <td>Consent not provided</td>\n",
       "      <td>Web</td>\n",
       "      <td>2024-02-26</td>\n",
       "      <td>Closed with non-monetary relief</td>\n",
       "      <td>Yes</td>\n",
       "      <td>NaN</td>\n",
       "      <td>8423775</td>\n",
       "    </tr>\n",
       "    <tr>\n",
       "      <th>3</th>\n",
       "      <td>2024-02-20</td>\n",
       "      <td>Credit reporting or other personal consumer re...</td>\n",
       "      <td>Credit reporting</td>\n",
       "      <td>Improper use of your report</td>\n",
       "      <td>Reporting company used your report improperly</td>\n",
       "      <td>I am disappointed to have received a credit re...</td>\n",
       "      <td>NaN</td>\n",
       "      <td>LEXISNEXIS</td>\n",
       "      <td>CA</td>\n",
       "      <td>94124</td>\n",
       "      <td>NaN</td>\n",
       "      <td>Consent provided</td>\n",
       "      <td>Web</td>\n",
       "      <td>2024-02-20</td>\n",
       "      <td>Closed with explanation</td>\n",
       "      <td>Yes</td>\n",
       "      <td>NaN</td>\n",
       "      <td>8379830</td>\n",
       "    </tr>\n",
       "    <tr>\n",
       "      <th>4</th>\n",
       "      <td>2024-01-26</td>\n",
       "      <td>Credit reporting or other personal consumer re...</td>\n",
       "      <td>Credit reporting</td>\n",
       "      <td>Incorrect information on your report</td>\n",
       "      <td>Information belongs to someone else</td>\n",
       "      <td>The companies, along with the credit reporting...</td>\n",
       "      <td>NaN</td>\n",
       "      <td>EQUIFAX, INC.</td>\n",
       "      <td>NC</td>\n",
       "      <td>28804</td>\n",
       "      <td>NaN</td>\n",
       "      <td>Consent provided</td>\n",
       "      <td>Web</td>\n",
       "      <td>2024-01-26</td>\n",
       "      <td>Closed with non-monetary relief</td>\n",
       "      <td>Yes</td>\n",
       "      <td>NaN</td>\n",
       "      <td>8232435</td>\n",
       "    </tr>\n",
       "    <tr>\n",
       "      <th>...</th>\n",
       "      <td>...</td>\n",
       "      <td>...</td>\n",
       "      <td>...</td>\n",
       "      <td>...</td>\n",
       "      <td>...</td>\n",
       "      <td>...</td>\n",
       "      <td>...</td>\n",
       "      <td>...</td>\n",
       "      <td>...</td>\n",
       "      <td>...</td>\n",
       "      <td>...</td>\n",
       "      <td>...</td>\n",
       "      <td>...</td>\n",
       "      <td>...</td>\n",
       "      <td>...</td>\n",
       "      <td>...</td>\n",
       "      <td>...</td>\n",
       "      <td>...</td>\n",
       "    </tr>\n",
       "    <tr>\n",
       "      <th>1999995</th>\n",
       "      <td>2018-09-09</td>\n",
       "      <td>Money transfer, virtual currency, or money ser...</td>\n",
       "      <td>Mobile or digital wallet</td>\n",
       "      <td>Managing, opening, or closing your mobile wall...</td>\n",
       "      <td>NaN</td>\n",
       "      <td>NaN</td>\n",
       "      <td>NaN</td>\n",
       "      <td>Paypal Holdings, Inc</td>\n",
       "      <td>VA</td>\n",
       "      <td>22153</td>\n",
       "      <td>NaN</td>\n",
       "      <td>Consent not provided</td>\n",
       "      <td>Web</td>\n",
       "      <td>2018-09-09</td>\n",
       "      <td>Closed with explanation</td>\n",
       "      <td>Yes</td>\n",
       "      <td>NaN</td>\n",
       "      <td>3014049</td>\n",
       "    </tr>\n",
       "    <tr>\n",
       "      <th>1999996</th>\n",
       "      <td>2021-09-10</td>\n",
       "      <td>Credit reporting, credit repair services, or o...</td>\n",
       "      <td>Credit reporting</td>\n",
       "      <td>Problem with a credit reporting company's inve...</td>\n",
       "      <td>Was not notified of investigation status or re...</td>\n",
       "      <td>NaN</td>\n",
       "      <td>NaN</td>\n",
       "      <td>EQUIFAX, INC.</td>\n",
       "      <td>VA</td>\n",
       "      <td>23504</td>\n",
       "      <td>NaN</td>\n",
       "      <td>Consent not provided</td>\n",
       "      <td>Web</td>\n",
       "      <td>2021-09-10</td>\n",
       "      <td>Closed with explanation</td>\n",
       "      <td>Yes</td>\n",
       "      <td>NaN</td>\n",
       "      <td>4709953</td>\n",
       "    </tr>\n",
       "    <tr>\n",
       "      <th>1999997</th>\n",
       "      <td>2019-04-15</td>\n",
       "      <td>Debt collection</td>\n",
       "      <td>I do not know</td>\n",
       "      <td>Attempts to collect debt not owed</td>\n",
       "      <td>Debt was already discharged in bankruptcy and ...</td>\n",
       "      <td>I request the original disclosure of my loan (...</td>\n",
       "      <td>Company believes complaint caused principally ...</td>\n",
       "      <td>Express Cash Mart Management</td>\n",
       "      <td>TX</td>\n",
       "      <td>78249</td>\n",
       "      <td>NaN</td>\n",
       "      <td>Consent provided</td>\n",
       "      <td>Web</td>\n",
       "      <td>2019-04-24</td>\n",
       "      <td>Closed with explanation</td>\n",
       "      <td>Yes</td>\n",
       "      <td>NaN</td>\n",
       "      <td>3212585</td>\n",
       "    </tr>\n",
       "    <tr>\n",
       "      <th>1999998</th>\n",
       "      <td>2021-10-14</td>\n",
       "      <td>Credit card or prepaid card</td>\n",
       "      <td>General-purpose credit card or charge card</td>\n",
       "      <td>Incorrect information on your report</td>\n",
       "      <td>Account information incorrect</td>\n",
       "      <td>NaN</td>\n",
       "      <td>NaN</td>\n",
       "      <td>Synovus Bank</td>\n",
       "      <td>NJ</td>\n",
       "      <td>07524</td>\n",
       "      <td>NaN</td>\n",
       "      <td>Consent not provided</td>\n",
       "      <td>Web</td>\n",
       "      <td>2021-10-14</td>\n",
       "      <td>Closed with explanation</td>\n",
       "      <td>Yes</td>\n",
       "      <td>NaN</td>\n",
       "      <td>4808988</td>\n",
       "    </tr>\n",
       "    <tr>\n",
       "      <th>1999999</th>\n",
       "      <td>2020-10-30</td>\n",
       "      <td>Credit reporting, credit repair services, or o...</td>\n",
       "      <td>Credit reporting</td>\n",
       "      <td>Incorrect information on your report</td>\n",
       "      <td>Information belongs to someone else</td>\n",
       "      <td>i just found out that there is an account with...</td>\n",
       "      <td>Company has responded to the consumer and the ...</td>\n",
       "      <td>Experian Information Solutions Inc.</td>\n",
       "      <td>CA</td>\n",
       "      <td>93704</td>\n",
       "      <td>NaN</td>\n",
       "      <td>Consent provided</td>\n",
       "      <td>Web</td>\n",
       "      <td>2020-10-30</td>\n",
       "      <td>Closed with explanation</td>\n",
       "      <td>Yes</td>\n",
       "      <td>NaN</td>\n",
       "      <td>3928672</td>\n",
       "    </tr>\n",
       "  </tbody>\n",
       "</table>\n",
       "<p>2000000 rows × 18 columns</p>\n",
       "</div>"
      ],
      "text/plain": [
       "        Date received                                            Product  \\\n",
       "0          2024-01-24  Credit reporting or other personal consumer re...   \n",
       "1          2024-02-26                                    Debt collection   \n",
       "2          2024-02-26  Credit reporting or other personal consumer re...   \n",
       "3          2024-02-20  Credit reporting or other personal consumer re...   \n",
       "4          2024-01-26  Credit reporting or other personal consumer re...   \n",
       "...               ...                                                ...   \n",
       "1999995    2018-09-09  Money transfer, virtual currency, or money ser...   \n",
       "1999996    2021-09-10  Credit reporting, credit repair services, or o...   \n",
       "1999997    2019-04-15                                    Debt collection   \n",
       "1999998    2021-10-14                        Credit card or prepaid card   \n",
       "1999999    2020-10-30  Credit reporting, credit repair services, or o...   \n",
       "\n",
       "                                        Sub-product  \\\n",
       "0                                  Credit reporting   \n",
       "1                                        Other debt   \n",
       "2                                  Credit reporting   \n",
       "3                                  Credit reporting   \n",
       "4                                  Credit reporting   \n",
       "...                                             ...   \n",
       "1999995                    Mobile or digital wallet   \n",
       "1999996                            Credit reporting   \n",
       "1999997                               I do not know   \n",
       "1999998  General-purpose credit card or charge card   \n",
       "1999999                            Credit reporting   \n",
       "\n",
       "                                                     Issue  \\\n",
       "0                     Incorrect information on your report   \n",
       "1        Threatened to contact someone or share informa...   \n",
       "2                     Incorrect information on your report   \n",
       "3                              Improper use of your report   \n",
       "4                     Incorrect information on your report   \n",
       "...                                                    ...   \n",
       "1999995  Managing, opening, or closing your mobile wall...   \n",
       "1999996  Problem with a credit reporting company's inve...   \n",
       "1999997                  Attempts to collect debt not owed   \n",
       "1999998               Incorrect information on your report   \n",
       "1999999               Incorrect information on your report   \n",
       "\n",
       "                                                 Sub-issue  \\\n",
       "0                            Account information incorrect   \n",
       "1                  Talked to a third-party about your debt   \n",
       "2                      Information belongs to someone else   \n",
       "3            Reporting company used your report improperly   \n",
       "4                      Information belongs to someone else   \n",
       "...                                                    ...   \n",
       "1999995                                                NaN   \n",
       "1999996  Was not notified of investigation status or re...   \n",
       "1999997  Debt was already discharged in bankruptcy and ...   \n",
       "1999998                      Account information incorrect   \n",
       "1999999                Information belongs to someone else   \n",
       "\n",
       "                              Consumer complaint narrative  \\\n",
       "0                                                      NaN   \n",
       "1                                                      NaN   \n",
       "2                                                      NaN   \n",
       "3        I am disappointed to have received a credit re...   \n",
       "4        The companies, along with the credit reporting...   \n",
       "...                                                    ...   \n",
       "1999995                                                NaN   \n",
       "1999996                                                NaN   \n",
       "1999997  I request the original disclosure of my loan (...   \n",
       "1999998                                                NaN   \n",
       "1999999  i just found out that there is an account with...   \n",
       "\n",
       "                                   Company public response  \\\n",
       "0        Company has responded to the consumer and the ...   \n",
       "1                                                      NaN   \n",
       "2        Company believes it acted appropriately as aut...   \n",
       "3                                                      NaN   \n",
       "4                                                      NaN   \n",
       "...                                                    ...   \n",
       "1999995                                                NaN   \n",
       "1999996                                                NaN   \n",
       "1999997  Company believes complaint caused principally ...   \n",
       "1999998                                                NaN   \n",
       "1999999  Company has responded to the consumer and the ...   \n",
       "\n",
       "                                        Company State ZIP code Tags  \\\n",
       "0        TRANSUNION INTERMEDIATE HOLDINGS, INC.    FL    33578  NaN   \n",
       "1                         Marlette Funding, LLC    IL    60060  NaN   \n",
       "2                  CCS Financial Services, Inc.    NC    27536  NaN   \n",
       "3                                    LEXISNEXIS    CA    94124  NaN   \n",
       "4                                 EQUIFAX, INC.    NC    28804  NaN   \n",
       "...                                         ...   ...      ...  ...   \n",
       "1999995                    Paypal Holdings, Inc    VA    22153  NaN   \n",
       "1999996                           EQUIFAX, INC.    VA    23504  NaN   \n",
       "1999997            Express Cash Mart Management    TX    78249  NaN   \n",
       "1999998                            Synovus Bank    NJ    07524  NaN   \n",
       "1999999     Experian Information Solutions Inc.    CA    93704  NaN   \n",
       "\n",
       "        Consumer consent provided? Submitted via Date sent to company  \\\n",
       "0             Consent not provided           Web           2024-01-24   \n",
       "1             Consent not provided           Web           2024-02-26   \n",
       "2             Consent not provided           Web           2024-02-26   \n",
       "3                 Consent provided           Web           2024-02-20   \n",
       "4                 Consent provided           Web           2024-01-26   \n",
       "...                            ...           ...                  ...   \n",
       "1999995       Consent not provided           Web           2018-09-09   \n",
       "1999996       Consent not provided           Web           2021-09-10   \n",
       "1999997           Consent provided           Web           2019-04-24   \n",
       "1999998       Consent not provided           Web           2021-10-14   \n",
       "1999999           Consent provided           Web           2020-10-30   \n",
       "\n",
       "            Company response to consumer Timely response? Consumer disputed?  \\\n",
       "0                Closed with explanation              Yes                NaN   \n",
       "1                Closed with explanation              Yes                NaN   \n",
       "2        Closed with non-monetary relief              Yes                NaN   \n",
       "3                Closed with explanation              Yes                NaN   \n",
       "4        Closed with non-monetary relief              Yes                NaN   \n",
       "...                                  ...              ...                ...   \n",
       "1999995          Closed with explanation              Yes                NaN   \n",
       "1999996          Closed with explanation              Yes                NaN   \n",
       "1999997          Closed with explanation              Yes                NaN   \n",
       "1999998          Closed with explanation              Yes                NaN   \n",
       "1999999          Closed with explanation              Yes                NaN   \n",
       "\n",
       "         Complaint ID  \n",
       "0             8205544  \n",
       "1             8424268  \n",
       "2             8423775  \n",
       "3             8379830  \n",
       "4             8232435  \n",
       "...               ...  \n",
       "1999995       3014049  \n",
       "1999996       4709953  \n",
       "1999997       3212585  \n",
       "1999998       4808988  \n",
       "1999999       3928672  \n",
       "\n",
       "[2000000 rows x 18 columns]"
      ]
     },
     "execution_count": 28,
     "metadata": {},
     "output_type": "execute_result"
    }
   ],
   "source": [
    "df"
   ]
  },
  {
   "cell_type": "code",
   "execution_count": 31,
   "id": "318a2bc1",
   "metadata": {},
   "outputs": [
    {
     "data": {
      "text/plain": [
       "Index(['Date received', 'Product', 'Sub-product', 'Issue', 'Sub-issue',\n",
       "       'Consumer complaint narrative', 'Company public response', 'Company',\n",
       "       'State', 'ZIP code', 'Tags', 'Consumer consent provided?',\n",
       "       'Submitted via', 'Date sent to company', 'Company response to consumer',\n",
       "       'Timely response?', 'Consumer disputed?', 'Complaint ID'],\n",
       "      dtype='object')"
      ]
     },
     "execution_count": 31,
     "metadata": {},
     "output_type": "execute_result"
    }
   ],
   "source": [
    "df.columns #displaying all columns"
   ]
  },
  {
   "cell_type": "code",
   "execution_count": 45,
   "id": "dbb5b894",
   "metadata": {},
   "outputs": [
    {
     "data": {
      "text/plain": [
       "array(['Yes', 'No'], dtype=object)"
      ]
     },
     "execution_count": 45,
     "metadata": {},
     "output_type": "execute_result"
    }
   ],
   "source": [
    "df['Timely response?'].unique()  #unique values in Timely response column"
   ]
  },
  {
   "cell_type": "code",
   "execution_count": 48,
   "id": "f0320b91",
   "metadata": {},
   "outputs": [
    {
     "data": {
      "text/plain": [
       "array([nan, 'Yes', 'No'], dtype=object)"
      ]
     },
     "execution_count": 48,
     "metadata": {},
     "output_type": "execute_result"
    }
   ],
   "source": [
    "df['Consumer disputed?'].unique()"
   ]
  },
  {
   "cell_type": "code",
   "execution_count": 61,
   "id": "584377ec",
   "metadata": {},
   "outputs": [
    {
     "name": "stdout",
     "output_type": "stream",
     "text": [
      "Yes    1986745\n",
      "No       13255\n",
      "Name: Timely response?, dtype: int64\n"
     ]
    }
   ],
   "source": [
    "Count_of_timely_response = df['Timely response?'].value_counts()\n",
    "print(Count_of_timely_response)\n"
   ]
  },
  {
   "cell_type": "markdown",
   "id": "ff3d4012",
   "metadata": {},
   "source": [
    "# # Percentage of Timely Responses"
   ]
  },
  {
   "cell_type": "code",
   "execution_count": 63,
   "id": "2a1e490a",
   "metadata": {},
   "outputs": [
    {
     "name": "stdout",
     "output_type": "stream",
     "text": [
      "Percentage of 'Yes' responses:= 99.33725 %\n",
      "Percentage of 'No' responses:= 0.66275 %\n"
     ]
    }
   ],
   "source": [
    "total_count = Count_of_timely_response.sum()                             \n",
    "percentage_yes = (Count_of_timely_response['Yes'] / total_count) * 100\n",
    "percentage_no = (Count_of_timely_response['No'] / total_count) * 100\n",
    "\n",
    "print(\"Percentage of 'Yes' responses:=\", percentage_yes,\"%\")\n",
    "print(f\"Percentage of 'No' responses:=\", percentage_no,\"%\")"
   ]
  },
  {
   "cell_type": "code",
   "execution_count": null,
   "id": "dc79f437",
   "metadata": {},
   "outputs": [],
   "source": []
  },
  {
   "cell_type": "code",
   "execution_count": 67,
   "id": "e494c833",
   "metadata": {},
   "outputs": [
    {
     "data": {
      "text/plain": [
       "Text(0.5, 1.0, 'Consumer Disputed Distribution')"
      ]
     },
     "execution_count": 67,
     "metadata": {},
     "output_type": "execute_result"
    },
    {
     "data": {
      "image/png": "[encoded data removed]",
      "text/plain": [
       "<Figure size 640x480 with 1 Axes>"
      ]
     },
     "metadata": {},
     "output_type": "display_data"
    }
   ],
   "source": [
    "counts = df['Consumer disputed?'].value_counts()\n",
    "plt.pie(counts, labels=counts.index,autopct='%1.1f%%')\n",
    "plt.title(\"Consumer Disputed Distribution\")\n"
   ]
  },
  {
   "cell_type": "markdown",
   "id": "d5c45285",
   "metadata": {},
   "source": [
    "# Q2"
   ]
  },
  {
   "cell_type": "code",
   "execution_count": 70,
   "id": "e2ebc8fe",
   "metadata": {},
   "outputs": [],
   "source": [
    "def findLength(nums):\n",
    "    if not nums:\n",
    "        return 0\n",
    "\n",
    "    max_length = 1  \n",
    "    current_length = 1  \n",
    "    \n",
    "    for i in range(1, len(nums)):\n",
    "        if nums[i] > nums[i - 1]:   # Check if the current number is greater than the previous one\n",
    "            current_length += 1     # If it is, increase the length of the current increasing subsequence\n",
    "            max_length = max(max_length, current_length)\n",
    "        else:\n",
    "            \n",
    "            current_length = 1\n",
    "\n",
    "    return max_length\n",
    "\n"
   ]
  },
  {
   "cell_type": "code",
   "execution_count": 74,
   "id": "ba72cc39",
   "metadata": {},
   "outputs": [
    {
     "name": "stdout",
     "output_type": "stream",
     "text": [
      "4\n"
     ]
    }
   ],
   "source": [
    "nums = [1,2,5,3,6,7,8]\n",
    "print(findLength(nums))"
   ]
  },
  {
   "cell_type": "markdown",
   "id": "c9d138e2",
   "metadata": {},
   "source": [
    "#  Q3"
   ]
  },
  {
   "cell_type": "code",
   "execution_count": 83,
   "id": "90633416",
   "metadata": {},
   "outputs": [],
   "source": [
    "def largestNumber(nums):\n",
    "    # Convert numbers to strings\n",
    "    nums_as_strings = []\n",
    "    for num in nums:\n",
    "        nums_as_strings.append(str(num))\n",
    "    \n",
    "    # Sort the numbers based on custom comparator\n",
    "    for i in range(len(nums_as_strings)):\n",
    "        for j in range(i + 1, len(nums_as_strings)):\n",
    "            if nums_as_strings[i] + nums_as_strings[j] < nums_as_strings[j] + nums_as_strings[i]:\n",
    "                nums_as_strings[i], nums_as_strings[j] = nums_as_strings[j], nums_as_strings[i]\n",
    "    \n",
    "    # Combine sorted strings to form the largest number\n",
    "    largest_num = ''.join(nums_as_strings)\n",
    "    \n",
    "    # Check if the largest number is '0'\n",
    "    if largest_num[0] == '0':\n",
    "        return '0'\n",
    "    \n",
    "    return largest_num\n"
   ]
  },
  {
   "cell_type": "code",
   "execution_count": 85,
   "id": "a159e02b",
   "metadata": {},
   "outputs": [
    {
     "name": "stdout",
     "output_type": "stream",
     "text": [
      "22013\n"
     ]
    }
   ],
   "source": [
    "nums =[2,20,13]\n",
    "print(largestNumber(nums))"
   ]
  },
  {
   "cell_type": "markdown",
   "id": "701499e9",
   "metadata": {},
   "source": [
    "# Q4"
   ]
  },
  {
   "cell_type": "code",
   "execution_count": 87,
   "id": "dd7577f0",
   "metadata": {},
   "outputs": [],
   "source": [
    "import json\n",
    "import csv\n",
    "\n",
    "# Read JSON file\n",
    "with open('Downloads/Ms Excel/DT A1 sample_json.json', 'r') as f:\n",
    "    data = json.load(f)\n",
    "\n",
    "# Extract \"servlet-name\" and \"servlet-class\" from each entry\n",
    "servlet_data = []\n",
    "for servlet in data['web-app']['servlet']:\n",
    "    servlet_name = servlet['servlet-name']\n",
    "    servlet_class = servlet['servlet-class']\n",
    "    servlet_data.append({'servlet-name': servlet_name, 'servlet-class': servlet_class})\n",
    "\n",
    "# Write to CSV file\n",
    "with open('servlet_data.csv', 'w', newline='') as csvfile:\n",
    "    fieldnames = ['servlet-name', 'servlet-class']\n",
    "    writer = csv.DictWriter(csvfile, fieldnames=fieldnames)\n",
    "\n",
    "    writer.writeheader()\n",
    "    for servlet in servlet_data:\n",
    "        writer.writerow(servlet)\n",
    "\n"
   ]
  }
 ],
 "metadata": {
  "kernelspec": {
   "display_name": "Python 3 (ipykernel)",
   "language": "python",
   "name": "python3"
  },
  "language_info": {
   "codemirror_mode": {
    "name": "ipython",
    "version": 3
   },
   "file_extension": ".py",
   "mimetype": "text/x-python",
   "name": "python",
   "nbconvert_exporter": "python",
   "pygments_lexer": "ipython3",
   "version": "3.11.4"
  }
 },
 "nbformat": 4,
 "nbformat_minor": 5
}
